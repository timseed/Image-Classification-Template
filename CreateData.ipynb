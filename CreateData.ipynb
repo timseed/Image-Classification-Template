{
 "cells": [
  {
   "cell_type": "code",
   "execution_count": 1,
   "id": "1ecc518d-3f99-4e56-9c3d-83af50542c77",
   "metadata": {},
   "outputs": [],
   "source": [
    "from PIL import Image, ImageDraw\n",
    "\n",
    "\n",
    "# This expects that the folder this is being run from has \n",
    "#  data\\\n",
    "#  data\\circle\\\n",
    "#  data\\rect\\\n"
   ]
  },
  {
   "cell_type": "code",
   "execution_count": 2,
   "id": "8f437c6d-75de-4c2c-91ae-c5bd60421517",
   "metadata": {},
   "outputs": [],
   "source": [
    "n=0\n",
    "for x in range(20,180,10):\n",
    "    for y in range(20,180,10):\n",
    "            im = Image.new('RGB', (200, 200), (128, 128, 128))\n",
    "            draw = ImageDraw.Draw(im)\n",
    "            #(x1, y1, x2, y2)\n",
    "            draw.ellipse((x, x,y, y), fill = 'blue', outline ='blue')\n",
    "            im.save(f'data/circle/Circle{n}.png', quality=95)\n",
    "            n+=1\n",
    "            "
   ]
  },
  {
   "cell_type": "code",
   "execution_count": 3,
   "id": "6a006b7f-15a0-45f6-80e2-a4734fb70b65",
   "metadata": {},
   "outputs": [],
   "source": [
    "n=0\n",
    "for x in range(20,180,10):\n",
    "    for y in range(20,180,10):\n",
    "            im = Image.new('RGB', (200, 200), (128, 128, 128))\n",
    "            draw = ImageDraw.Draw(im)\n",
    "            #(x1, y1, x2, y2)\n",
    "            draw.rectangle((x, x,y, y), fill = 'blue', outline ='blue')\n",
    "            im.save(f'data/circle/Rect{n}.png', quality=95)\n",
    "            n+=1"
   ]
  },
  {
   "cell_type": "code",
   "execution_count": null,
   "id": "28958578-e0f0-4ff3-a37c-a22e549a250b",
   "metadata": {},
   "outputs": [],
   "source": []
  }
 ],
 "metadata": {
  "kernelspec": {
   "display_name": "pyml",
   "language": "python",
   "name": "pyml"
  },
  "language_info": {
   "codemirror_mode": {
    "name": "ipython",
    "version": 3
   },
   "file_extension": ".py",
   "mimetype": "text/x-python",
   "name": "python",
   "nbconvert_exporter": "python",
   "pygments_lexer": "ipython3",
   "version": "3.9.16"
  }
 },
 "nbformat": 4,
 "nbformat_minor": 5
}
