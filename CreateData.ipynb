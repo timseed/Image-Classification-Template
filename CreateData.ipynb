{
 "cells": [
  {
   "cell_type": "code",
   "execution_count": 1,
   "id": "1ecc518d-3f99-4e56-9c3d-83af50542c77",
   "metadata": {},
   "outputs": [],
   "source": [
    "from PIL import Image, ImageDraw\n",
    "\n",
    "\n",
    "# This expects that the folder this is being run from has \n",
    "#  data\\\n",
    "#  data\\circle\\\n",
    "#  data\\rect\\\n",
    "STEP_SIZE=5\n",
    "MIN_SIZE=20"
   ]
  },
  {
   "cell_type": "code",
   "execution_count": 4,
   "id": "554976b9-b7ac-48e2-a5c5-964d8cd6f9a9",
   "metadata": {},
   "outputs": [
    {
     "name": "stdout",
     "output_type": "stream",
     "text": [
      "Data Generated\n"
     ]
    }
   ],
   "source": [
    "n=0\n",
    "for x in range(20,180,STEP_SIZE):\n",
    "    for y in range(20,180,STEP_SIZE):\n",
    "            if y-x>MIN_SIZE:\n",
    "                im = Image.new('RGB', (200, 200), (128, 128, 128))\n",
    "                draw = ImageDraw.Draw(im)\n",
    "                #(x1, y1, x2, y2)\n",
    "                draw.ellipse((x, x,y, y), fill = 'blue', outline ='blue')\n",
    "                im.save(f'data/circle/Circle{n}.png', quality=95)\n",
    "                n+=1\n",
    "            \n",
    "\n",
    "n=0\n",
    "for x in range(20,180,STEP_SIZE):\n",
    "    for y in range(20,180,STEP_SIZE):\n",
    "        if y-x>MIN_SIZE:\n",
    "            im = Image.new('RGB', (200, 200), (128, 128, 128))\n",
    "            draw = ImageDraw.Draw(im)\n",
    "            #(x1, y1, x2, y2)\n",
    "            draw.rectangle((x, x,y, y), fill = 'blue', outline ='blue')\n",
    "            im.save(f'data/rect/Rect{n}.png', quality=95)\n",
    "            n+=1\n",
    "            \n",
    "            \n",
    "print(\"Data Generated\")"
   ]
  },
  {
   "cell_type": "code",
   "execution_count": 12,
   "id": "2a41cbd4-8ae6-4b73-9bfc-af3450b949a3",
   "metadata": {},
   "outputs": [],
   "source": [
    "n=0\n",
    "for x in range(20,180,STEP_SIZE):\n",
    "    for y in range(20,180,STEP_SIZE):\n",
    "        if y-x>MIN_SIZE:\n",
    "                    im = Image.new('RGB', (200, 200), (128, 128, 128))\n",
    "                    draw = ImageDraw.Draw(im)\n",
    "                    draw.polygon([(x,y), (x-19, y+50), (x+19,y+50)], fill = (255,0,0))\n",
    "                    im.save(f'data/tri/Tri{n}.png', quality=95)\n",
    "                    n+=1"
   ]
  },
  {
   "cell_type": "code",
   "execution_count": null,
   "id": "14507946-fb64-42d8-a8d1-44999b05ee77",
   "metadata": {},
   "outputs": [],
   "source": []
  }
 ],
 "metadata": {
  "kernelspec": {
   "display_name": "pyml",
   "language": "python",
   "name": "pyml"
  },
  "language_info": {
   "codemirror_mode": {
    "name": "ipython",
    "version": 3
   },
   "file_extension": ".py",
   "mimetype": "text/x-python",
   "name": "python",
   "nbconvert_exporter": "python",
   "pygments_lexer": "ipython3",
   "version": "3.9.16"
  }
 },
 "nbformat": 4,
 "nbformat_minor": 5
}
