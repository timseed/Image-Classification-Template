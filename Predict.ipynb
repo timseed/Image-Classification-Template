{
 "cells": [
  {
   "cell_type": "markdown",
   "id": "512d64ce-fe0f-4b96-b477-801a4cc48636",
   "metadata": {},
   "source": [
    "# Load the Keras Model\n",
    "\n",
    "The model also pulls in the needed modules. \n",
    "But you can explicitly import them if you like."
   ]
  },
  {
   "cell_type": "code",
   "execution_count": 1,
   "id": "b950bf85-fae2-46c9-851e-5f57c3c619f6",
   "metadata": {},
   "outputs": [
    {
     "name": "stderr",
     "output_type": "stream",
     "text": [
      "/Users/tim/.pyml/lib/python3.9/site-packages/h5py/__init__.py:36: UserWarning: h5py is running against HDF5 1.12.2 when it was built against 1.12.1, this may cause problems\n",
      "  _warn((\"h5py is running against HDF5 {0} when it was built against {1}, \"\n"
     ]
    }
   ],
   "source": [
    "from tensorflow import keras\n",
    "import numpy as np\n",
    "model = keras.models.load_model('model/v0.0a')"
   ]
  },
  {
   "cell_type": "markdown",
   "id": "6fb0b209-2f27-4b16-9818-4750fd46a815",
   "metadata": {},
   "source": [
    "# Data \n",
    "\n",
    "I am going to use my original data, but if you had a folder of **unseen** data this would be very useful. Just remember it neeeds to be in the same **SHAPE** i.e. height/width/Colour-Bits as the trained model. If you need to *adjust* it - thats fine."
   ]
  },
  {
   "cell_type": "code",
   "execution_count": 2,
   "id": "193a83a0-6b48-405f-ad46-03f6eeac2989",
   "metadata": {},
   "outputs": [],
   "source": [
    "import pickle\n",
    "with open('Image-Dev-01.pkl','rb') as ifp:    \n",
    "    files,y_unique,X,y = pickle.load(ifp)"
   ]
  },
  {
   "cell_type": "code",
   "execution_count": 3,
   "id": "577c2809-7a62-44bb-b46b-c38f358280cd",
   "metadata": {},
   "outputs": [
    {
     "name": "stdout",
     "output_type": "stream",
     "text": [
      "Class idx is 0\n",
      "Class idx is rect\n",
      "Src.         data/circle/Circle189.png\n"
     ]
    },
    {
     "name": "stderr",
     "output_type": "stream",
     "text": [
      "2023-05-06 09:18:08.736804: W tensorflow/core/platform/profile_utils/cpu_utils.cc:128] Failed to get CPU frequency: 0 Hz\n"
     ]
    }
   ],
   "source": [
    "# make a prediction\n",
    "# Provide 1 object\n",
    "from random import randint\n",
    "test_id=randint(1,X.shape[0])\n",
    "ynew = model.predict(X[:test_id:test_id+1])\n",
    "# show the inputs and predicted outputs\n",
    "# The outputs are the likelyhood of it being in a class.\n",
    "\n",
    "# We can see how many possible classes are here\n",
    "# It should be 150\n",
    "ynew.shape\n",
    "\n",
    "#Lets find the highest value's location\n",
    "class_idx=np.argmax(ynew)\n",
    "print(f\"Class idx is {class_idx}\")\n",
    "print(f\"Class idx is {y_unique[class_idx]}\")\n",
    "\n",
    "print(f\"Src.         {files[test_id]}\")"
   ]
  },
  {
   "cell_type": "code",
   "execution_count": 21,
   "id": "8fec5fac-c698-40f4-92a0-04d12d32c7d9",
   "metadata": {},
   "outputs": [
    {
     "name": "stdout",
     "output_type": "stream",
     "text": [
      "Summary: Tests 100\n",
      "Correct: 41/100\n"
     ]
    }
   ],
   "source": [
    "TESTS=100\n",
    "correct=0\n",
    "for n in range(0,TESTS):\n",
    "    test_id=randint(1,X.shape[0]-1)\n",
    "    ynew = model.predict(X[:test_id:test_id+1])\n",
    "    # show the inputs and predicted outputs\n",
    "    # The outputs are the likelyhood of it being in a class.\n",
    "    \n",
    "    #Lets find the highest value's location\n",
    "    class_idx=np.argmax(ynew, axis=1)\n",
    "    y_pred_class_label = [y_unique[i] for i in class_idx]\n",
    "    if files[test_id].find(y_unique[0])!=-1:\n",
    "        correct+=1\n",
    "\n",
    "print(f\"Summary: Tests {TESTS}\")\n",
    "print(f\"Correct: {correct}/{TESTS}\")"
   ]
  },
  {
   "cell_type": "code",
   "execution_count": 17,
   "id": "aa26844c-0129-429b-b5b9-52d1c6c47767",
   "metadata": {},
   "outputs": [
    {
     "data": {
      "text/plain": [
       "['rect']"
      ]
     },
     "execution_count": 17,
     "metadata": {},
     "output_type": "execute_result"
    }
   ],
   "source": [
    "y_pred_class_label"
   ]
  },
  {
   "cell_type": "code",
   "execution_count": null,
   "id": "7b8ecc64-91f4-4c4b-80a4-3d53920b5307",
   "metadata": {},
   "outputs": [],
   "source": []
  }
 ],
 "metadata": {
  "kernelspec": {
   "display_name": "pyml",
   "language": "python",
   "name": "pyml"
  },
  "language_info": {
   "codemirror_mode": {
    "name": "ipython",
    "version": 3
   },
   "file_extension": ".py",
   "mimetype": "text/x-python",
   "name": "python",
   "nbconvert_exporter": "python",
   "pygments_lexer": "ipython3",
   "version": "3.9.16"
  }
 },
 "nbformat": 4,
 "nbformat_minor": 5
}
