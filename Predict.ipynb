{
 "cells": [
  {
   "cell_type": "markdown",
   "id": "512d64ce-fe0f-4b96-b477-801a4cc48636",
   "metadata": {},
   "source": [
    "# Load the Keras Model\n",
    "\n",
    "The model also pulls in the needed modules. \n",
    "But you can explicitly import them if you like."
   ]
  },
  {
   "cell_type": "code",
   "execution_count": 20,
   "id": "b950bf85-fae2-46c9-851e-5f57c3c619f6",
   "metadata": {},
   "outputs": [],
   "source": [
    "from tensorflow import keras\n",
    "import numpy as np\n",
    "model = keras.models.load_model('model/v0.0a')"
   ]
  },
  {
   "cell_type": "markdown",
   "id": "6fb0b209-2f27-4b16-9818-4750fd46a815",
   "metadata": {},
   "source": [
    "# Data \n",
    "\n",
    "I am going to use my original data, but if you had a folder of **unseen** data this would be very useful. Just remember it neeeds to be in the same **SHAPE** i.e. height/width/Colour-Bits as the trained model. If you need to *adjust* it - thats fine."
   ]
  },
  {
   "cell_type": "code",
   "execution_count": 21,
   "id": "193a83a0-6b48-405f-ad46-03f6eeac2989",
   "metadata": {},
   "outputs": [],
   "source": [
    "import pickle\n",
    "with open('Image-Dev-01.pkl','rb') as ifp:    \n",
    "    files,y_unique,X,y = pickle.load(ifp)"
   ]
  },
  {
   "cell_type": "markdown",
   "id": "ec352d2e-b890-4488-b077-4960563b0abe",
   "metadata": {},
   "source": [
    "# Make a prediction\n",
    "\n",
    "We will start off with just making 1 prediction.\n",
    "This is useful so we can see exactly how to call the trained model. \n",
    "And... how we then get the output.\n",
    "\n",
    "We have an \"Unknown Imaage\" (we are cheating as I am using my generated data)... it has to be in the correct size i.e. 100,100,1 \n",
    "\n",
    "However as the original training model had 500 training images - the input size needs to be \n",
    "(1,100,100,1) - if not the model will not accept the input data.\n",
    "\n",
    "\n",
    "We now call **model.predict** and we are passed back an array of likely classes. \n",
    "\n",
    "    [ 0.001, 0.002, 0.998] \n",
    "    \n",
    "The predict *VERY STRONGLY* thinks this is **Class 3** or index [2]. So we look up in our **y_unique** list ... to see what this class name is. It should be *rect*.\n",
    "\n",
    "Now can we find the string *rect* in the filename. If yes... we are correct - if not found this is a failure."
   ]
  },
  {
   "cell_type": "code",
   "execution_count": 47,
   "id": "1bfe094f-bc24-4004-ad5e-daee32d497f9",
   "metadata": {},
   "outputs": [
    {
     "name": "stdout",
     "output_type": "stream",
     "text": [
      "Testing Id 1072\n",
      "File is   data/circle/Circle39.png\n",
      "Classes are ['tri', 'circle', 'rect']\n",
      "Class idx is 1\n",
      "Class idx is circle\n",
      "Src.         data/circle/Circle39.png\n"
     ]
    },
    {
     "data": {
      "image/png": "[encoded data removed]",
      "text/plain": [
       "<PIL.PngImagePlugin.PngImageFile image mode=RGB size=200x200>"
      ]
     },
     "execution_count": 47,
     "metadata": {},
     "output_type": "execute_result"
    }
   ],
   "source": [
    "# Provide 1 object\n",
    "from random import randint\n",
    "from PIL import Image\n",
    "test_id=randint(1,X.shape[0])\n",
    "print(f\"Testing Id {test_id}\")\n",
    "print(f\"File is   {files[test_id]}\")\n",
    "print(f\"Classes are {y_unique}\")\n",
    "ynew = model.predict(X[test_id:test_id+1])\n",
    "# show the inputs and predicted outputs\n",
    "# The outputs are the likelyhood of it being in a class.\n",
    "\n",
    "# We can see how many possible classes are here\n",
    "# It should be 150\n",
    "ynew.shape\n",
    "\n",
    "#Lets find the highest value's location\n",
    "class_idx=np.argmax(ynew)\n",
    "print(f\"Class idx is {class_idx}\")\n",
    "print(f\"Class idx is {y_unique[class_idx]}\")\n",
    "print(f\"Src.         {files[test_id]}\")\n",
    "Image.open(files[test_id])"
   ]
  },
  {
   "cell_type": "markdown",
   "id": "54c9a22e-5cbb-43e0-a584-7d9a34224447",
   "metadata": {},
   "source": [
    "# Lets try 100 Predictions\n",
    "Essentially the same code as previously - but without showing the image."
   ]
  },
  {
   "cell_type": "code",
   "execution_count": 48,
   "id": "e7838bcc-542c-4ebf-b1e6-352631574819",
   "metadata": {},
   "outputs": [
    {
     "name": "stdout",
     "output_type": "stream",
     "text": [
      "Summary: Tests 100\n",
      "Correct: 100/100\n"
     ]
    }
   ],
   "source": [
    "TESTS=100\n",
    "correct=0\n",
    "for n in range(0,TESTS):\n",
    "    test_id=randint(1,X.shape[0]-1)\n",
    "    ynew = model.predict(X[test_id:test_id+1])\n",
    "    # show the inputs and predicted outputs\n",
    "    # The outputs are the likelyhood of it being in a class.\n",
    "    \n",
    "    #Lets find the highest value's location\n",
    "    class_idx=np.argmax(ynew)\n",
    "    \n",
    "    predicted_class_idx=np.argmax(ynew)\n",
    "    predicted_class_str=y_unique[class_idx]\n",
    "    \n",
    "    if files[test_id].find(predicted_class_str)!=-1:\n",
    "        correct+=1\n",
    "\n",
    "print(f\"Summary: Tests {TESTS}\")\n",
    "print(f\"Correct: {correct}/{TESTS}\")"
   ]
  },
  {
   "cell_type": "code",
   "execution_count": null,
   "id": "7b8ecc64-91f4-4c4b-80a4-3d53920b5307",
   "metadata": {},
   "outputs": [],
   "source": []
  }
 ],
 "metadata": {
  "kernelspec": {
   "display_name": "pyml",
   "language": "python",
   "name": "pyml"
  },
  "language_info": {
   "codemirror_mode": {
    "name": "ipython",
    "version": 3
   },
   "file_extension": ".py",
   "mimetype": "text/x-python",
   "name": "python",
   "nbconvert_exporter": "python",
   "pygments_lexer": "ipython3",
   "version": "3.9.16"
  }
 },
 "nbformat": 4,
 "nbformat_minor": 5
}
