{
 "cells": [
  {
   "cell_type": "markdown",
   "id": "512d64ce-fe0f-4b96-b477-801a4cc48636",
   "metadata": {},
   "source": [
    "# Load the Keras Model\n",
    "\n",
    "The model also pulls in the needed modules. \n",
    "But you can explicitly import them if you like."
   ]
  },
  {
   "cell_type": "code",
   "execution_count": 1,
   "id": "b950bf85-fae2-46c9-851e-5f57c3c619f6",
   "metadata": {},
   "outputs": [
    {
     "name": "stderr",
     "output_type": "stream",
     "text": [
      "/Users/tim/.pyml/lib/python3.9/site-packages/h5py/__init__.py:36: UserWarning: h5py is running against HDF5 1.12.2 when it was built against 1.12.1, this may cause problems\n",
      "  _warn((\"h5py is running against HDF5 {0} when it was built against {1}, \"\n"
     ]
    }
   ],
   "source": [
    "from tensorflow import keras\n",
    "import numpy as np\n",
    "model = keras.models.load_model('model/v0.0a')"
   ]
  },
  {
   "cell_type": "markdown",
   "id": "6fb0b209-2f27-4b16-9818-4750fd46a815",
   "metadata": {},
   "source": [
    "# Data \n",
    "\n",
    "I am going to use my original data, but if you had a folder of **unseen** data this would be very useful. Just remember it neeeds to be in the same **SHAPE** i.e. height/width/Colour-Bits as the trained model. If you need to *adjust* it - thats fine."
   ]
  },
  {
   "cell_type": "code",
   "execution_count": 2,
   "id": "193a83a0-6b48-405f-ad46-03f6eeac2989",
   "metadata": {},
   "outputs": [],
   "source": [
    "import pickle\n",
    "with open('Image-Dev-01.pkl','rb') as ifp:    \n",
    "    files,y_unique,X,y = pickle.load(ifp)"
   ]
  },
  {
   "cell_type": "code",
   "execution_count": 12,
   "id": "577c2809-7a62-44bb-b46b-c38f358280cd",
   "metadata": {},
   "outputs": [
    {
     "name": "stdout",
     "output_type": "stream",
     "text": [
      "Class idx is 0\n",
      "Class idx is rect\n",
      "Src.         data/circle/Circle229.png\n"
     ]
    }
   ],
   "source": [
    "# make a prediction\n",
    "# Provide 1 object\n",
    "from random import randint\n",
    "test_id=randint(1,X.shape[0])\n",
    "ynew = model.predict(X[:test_id:test_id+1])\n",
    "# show the inputs and predicted outputs\n",
    "# The outputs are the likelyhood of it being in a class.\n",
    "\n",
    "# We can see how many possible classes are here\n",
    "# It should be 150\n",
    "ynew.shape\n",
    "\n",
    "#Lets find the highest value's location\n",
    "class_idx=np.argmax(ynew)\n",
    "print(f\"Class idx is {class_idx}\")\n",
    "print(f\"Class idx is {y_unique[class_idx]}\")\n",
    "\n",
    "print(f\"Src.         {files[test_id]}\")"
   ]
  },
  {
   "cell_type": "code",
   "execution_count": null,
   "id": "6da0ed98-33ea-45ca-bcc2-de7e988224a7",
   "metadata": {},
   "outputs": [],
   "source": []
  }
 ],
 "metadata": {
  "kernelspec": {
   "display_name": "pyml",
   "language": "python",
   "name": "pyml"
  },
  "language_info": {
   "codemirror_mode": {
    "name": "ipython",
    "version": 3
   },
   "file_extension": ".py",
   "mimetype": "text/x-python",
   "name": "python",
   "nbconvert_exporter": "python",
   "pygments_lexer": "ipython3",
   "version": "3.9.16"
  }
 },
 "nbformat": 4,
 "nbformat_minor": 5
}
