{
 "cells": [
  {
   "cell_type": "code",
   "execution_count": 6,
   "id": "fe42422e-cd50-4d32-9088-893bcd12b788",
   "metadata": {},
   "outputs": [],
   "source": [
    "from glob import glob\n",
    "import tensorflow as tf\n",
    "import numpy as np\n",
    "from tensorflow.keras.utils import load_img, img_to_array\n",
    "SRC=\"data/*/*.png\"\n",
    "batch_size=10"
   ]
  },
  {
   "cell_type": "code",
   "execution_count": 7,
   "id": "ad58c026-8d22-4bf0-ad06-8aa1bfc66978",
   "metadata": {},
   "outputs": [],
   "source": [
    "files=glob(SRC)\n",
    "# I will place the data in these lists\n",
    "X_data=[]\n",
    "y_data_str=[]"
   ]
  },
  {
   "cell_type": "code",
   "execution_count": 8,
   "id": "e791950e-1a2d-44fd-93f7-44e26987fdae",
   "metadata": {},
   "outputs": [],
   "source": [
    "for src_file in files:\n",
    "    i=load_img(src_file, color_mode=\"grayscale\",target_size=(100,100))\n",
    "    i_data=img_to_array(i)\n",
    "    X_data.append(i_data)\n",
    "    y_data_str.append(src_file.split('/')[1])"
   ]
  },
  {
   "cell_type": "code",
   "execution_count": 9,
   "id": "ea61bbc4-6e28-41bc-8a45-016bf1816c19",
   "metadata": {},
   "outputs": [],
   "source": [
    "# We now need to convert the Y_data from text to numeric\n",
    "y_unique=list(set(list(y_data_str)))\n",
    "\n",
    "def text_to_pos(text):\n",
    "    return y_unique.index(text)\n",
    "y=list(map(text_to_pos,y_data_str))"
   ]
  },
  {
   "cell_type": "code",
   "execution_count": 22,
   "id": "b769ba2f-2b3e-4784-b28d-9b854f75d813",
   "metadata": {},
   "outputs": [],
   "source": [
    "#Convert Python list to np array\n",
    "X=np.array(X_data)"
   ]
  },
  {
   "cell_type": "code",
   "execution_count": 23,
   "id": "e7db5a8d-90ce-498c-a29c-cc610f9dc4aa",
   "metadata": {},
   "outputs": [],
   "source": [
    "#Make the datatype float32\n",
    "X=X.astype(np.float32)\n",
    "#Scale the values to be within 0.0-1.0\n",
    "X=X/256.0"
   ]
  },
  {
   "cell_type": "code",
   "execution_count": 24,
   "id": "5b3bc191-7cef-4b04-9157-f462203a2cc7",
   "metadata": {},
   "outputs": [],
   "source": [
    "# Similar with Y \n",
    "y=np.array(y)\n",
    "y=y.astype(np.float32)"
   ]
  },
  {
   "cell_type": "code",
   "execution_count": 33,
   "id": "23bdcac5-ef26-4b19-8965-3930aa262570",
   "metadata": {},
   "outputs": [
    {
     "name": "stdout",
     "output_type": "stream",
     "text": [
      "X is in a shape of (512, 100, 100, 1)\n",
      "Meaning              512 Images\n",
      "         Image is    100 Pixels Wide\n",
      "         Image is    100 Pixels High\n",
      "         Image is      1 Pixels for colour. 1 means GrayScale,3 would be RGB \n",
      "\n",
      "\n",
      "\n",
      "Y is in a shape of (512,)\n",
      "Meaning              512 objects has a known class/type\n"
     ]
    }
   ],
   "source": [
    "print(f\"X is in a shape of {X.shape}\")\n",
    "print(f\"Meaning            {X.shape[0]:5d} Images\")\n",
    "print(f\"         Image is  {X.shape[1]:5d} Pixels Wide\")\n",
    "print(f\"         Image is  {X.shape[2]:5d} Pixels High\")\n",
    "print(f\"         Image is  {X.shape[3]:5d} Pixels for colour. 1 means GrayScale,3 would be RGB \")\n",
    "print(f\"\\n\\n\\nY is in a shape of {y.shape}\")\n",
    "print(f\"Meaning            {y.shape[0]:5d} objects has a known class/type\")\n"
   ]
  },
  {
   "cell_type": "markdown",
   "id": "bae6143a-22bc-4d69-812e-f59ae677f6dd",
   "metadata": {},
   "source": [
    "# Save DataSets\n",
    "\n",
    "Should there have been a large amount of image processing, image augmentation (not shown here), then\n",
    "saving this data as a Pickle object would be a good idea."
   ]
  },
  {
   "cell_type": "code",
   "execution_count": 38,
   "id": "6f32453d-3793-43d7-a2ae-56611de78362",
   "metadata": {},
   "outputs": [],
   "source": [
    "import pickle\n",
    "with open('Image-Dev-01.pkl','wb') as ofp:\n",
    "    pickle.dump([files,X,y],ofp)"
   ]
  },
  {
   "cell_type": "markdown",
   "id": "6819d88f-a258-4d14-b4f3-5aeee1431139",
   "metadata": {},
   "source": [
    "# To load this back\n",
    "\n",
    "The variables can be different names - but the order is critical."
   ]
  },
  {
   "cell_type": "code",
   "execution_count": 40,
   "id": "a79b7bdb-faca-4b7f-8778-f920fca33726",
   "metadata": {},
   "outputs": [],
   "source": [
    "with open('Image-Dev-01.pkl','rb') as ifp:\n",
    "    files2,X2,y2 = pickle.load(ifp)"
   ]
  },
  {
   "cell_type": "code",
   "execution_count": 42,
   "id": "a8f78f8d-8937-4efb-b63f-5176b721d72b",
   "metadata": {},
   "outputs": [
    {
     "name": "stdout",
     "output_type": "stream",
     "text": [
      "Files restored correctly\n"
     ]
    }
   ],
   "source": [
    "#Simple check\n",
    "if files==files2:\n",
    "    print(\"Files restored correctly\")"
   ]
  },
  {
   "cell_type": "code",
   "execution_count": null,
   "id": "0cc4a08a-a588-480d-8c23-f5f63d35503c",
   "metadata": {},
   "outputs": [],
   "source": []
  }
 ],
 "metadata": {
  "kernelspec": {
   "display_name": "pyml",
   "language": "python",
   "name": "pyml"
  },
  "language_info": {
   "codemirror_mode": {
    "name": "ipython",
    "version": 3
   },
   "file_extension": ".py",
   "mimetype": "text/x-python",
   "name": "python",
   "nbconvert_exporter": "python",
   "pygments_lexer": "ipython3",
   "version": "3.9.1"
  }
 },
 "nbformat": 4,
 "nbformat_minor": 5
}
