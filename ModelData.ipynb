{
 "cells": [
  {
   "cell_type": "code",
   "execution_count": 1,
   "id": "2806d095-56f5-46ec-bee6-b035de70b632",
   "metadata": {},
   "outputs": [],
   "source": [
    "import pickle\n",
    "from sklearn.model_selection import train_test_split\n",
    "with open('Image-Dev-01.pkl','rb') as ifp:\n",
    "    files,y_unique,X,y = pickle.load(ifp)"
   ]
  },
  {
   "cell_type": "markdown",
   "id": "f45849a8-67f7-43ca-9cce-9d15b14bb260",
   "metadata": {},
   "source": [
    "# Build Keras Model\n",
    "\n",
    "We first need to split our data into training and test (sometimes called validation) segments.\n",
    "\n",
    "There is an easy way to do this - train_test_split"
   ]
  },
  {
   "cell_type": "code",
   "execution_count": 2,
   "id": "decc5e35-a986-425e-85eb-afd2263cf858",
   "metadata": {},
   "outputs": [
    {
     "name": "stdout",
     "output_type": "stream",
     "text": [
      "We have   343 Training samples\n",
      "We have   169 Test samples\n"
     ]
    }
   ],
   "source": [
    "X_train, X_test, y_train, y_test = train_test_split(X, y, test_size=0.33, random_state=42)\n",
    "print(f\"We have {X_train.shape[0]:5d} Training samples\")\n",
    "print(f\"We have {X_test.shape[0]:5d} Test samples\")"
   ]
  },
  {
   "cell_type": "code",
   "execution_count": 3,
   "id": "f7585028-4497-44f8-a55d-5105cf317c28",
   "metadata": {},
   "outputs": [
    {
     "name": "stdout",
     "output_type": "stream",
     "text": [
      "We are trying to predict 2 classes.\n"
     ]
    }
   ],
   "source": [
    "num_classes=len(list(set(y)))\n",
    "print(f\"We are trying to predict {num_classes} classes.\")"
   ]
  },
  {
   "cell_type": "code",
   "execution_count": 4,
   "id": "d364c9b9-d3c3-475c-b51f-bd23da86463f",
   "metadata": {},
   "outputs": [
    {
     "name": "stderr",
     "output_type": "stream",
     "text": [
      "/Users/tim/.pyml/lib/python3.9/site-packages/h5py/__init__.py:36: UserWarning: h5py is running against HDF5 1.12.2 when it was built against 1.12.1, this may cause problems\n",
      "  _warn((\"h5py is running against HDF5 {0} when it was built against {1}, \"\n"
     ]
    }
   ],
   "source": [
    "import keras\n",
    "from keras.models import Sequential\n",
    "from keras.layers import Dense, Conv2D , MaxPool2D , Flatten , Dropout , MaxPooling2D\n",
    "from keras.preprocessing.image import ImageDataGenerator\n",
    "from keras.optimizers import adam_v2 \n",
    "from keras.callbacks import EarlyStopping\n",
    "from sklearn.metrics import classification_report,confusion_matrix\n",
    "\n",
    "import tensorflow as tf\n"
   ]
  },
  {
   "cell_type": "code",
   "execution_count": 5,
   "id": "0b86fb67-7fe4-429e-9e1f-3fcd2e5fb4ec",
   "metadata": {},
   "outputs": [
    {
     "name": "stdout",
     "output_type": "stream",
     "text": [
      "Model: \"sequential\"\n",
      "_________________________________________________________________\n",
      " Layer (type)                Output Shape              Param #   \n",
      "=================================================================\n",
      " conv2d (Conv2D)             (None, 93, 93, 64)        4160      \n",
      "                                                                 \n",
      " dropout (Dropout)           (None, 93, 93, 64)        0         \n",
      "                                                                 \n",
      " max_pooling2d (MaxPooling2D  (None, 15, 15, 64)       0         \n",
      " )                                                               \n",
      "                                                                 \n",
      " flatten (Flatten)           (None, 14400)             0         \n",
      "                                                                 \n",
      " dense (Dense)               (None, 8)                 115208    \n",
      "                                                                 \n",
      " dense_1 (Dense)             (None, 2)                 18        \n",
      "                                                                 \n",
      "=================================================================\n",
      "Total params: 119,386\n",
      "Trainable params: 119,386\n",
      "Non-trainable params: 0\n",
      "_________________________________________________________________\n"
     ]
    }
   ],
   "source": [
    "model = Sequential()\n",
    "# Make 64 Output Channels using a pixel size of 8,8\n",
    "model.add(Conv2D(64, kernel_size=(8, 8), activation='relu', input_shape=(X_train[1].shape)))\n",
    "model.add(Dropout(0.3))\n",
    "model.add(MaxPooling2D(pool_size=(6, 6)))\n",
    "# model.add(Conv2D(128, kernel_size=(8, 8), activation='relu'))\n",
    "# model.add(Dropout(0.3))\n",
    "# model.add(MaxPooling2D(pool_size=(8, 8)))\n",
    "#This will produce the previous dimension in shapes i.e. (38,58,64)-> 141056\n",
    "model.add(Flatten())\n",
    "model.add(Dense(num_classes*4, activation='relu'))\n",
    "model.add(Dense(num_classes, activation='softmax'))\n",
    "model.summary()\n",
    "model.compile(loss = tf.keras.losses.SparseCategoricalCrossentropy(from_logits=False) , metrics = ['accuracy'])\n",
    "\n",
    "# simple early stopping\n",
    "#es = EarlyStopping(monitor='val_loss', mode='min', verbose=1)\n",
    "# More patient Early stopping \n",
    "es = EarlyStopping(monitor='val_loss', mode='min', verbose=1, patience=7)"
   ]
  },
  {
   "cell_type": "code",
   "execution_count": 6,
   "id": "5ee21aa8-ffcc-403f-90a1-3cb3eed6675d",
   "metadata": {},
   "outputs": [
    {
     "name": "stdout",
     "output_type": "stream",
     "text": [
      "Epoch 1/400\n"
     ]
    },
    {
     "name": "stderr",
     "output_type": "stream",
     "text": [
      "2023-05-06 08:34:55.607347: W tensorflow/core/platform/profile_utils/cpu_utils.cc:128] Failed to get CPU frequency: 0 Hz\n"
     ]
    },
    {
     "name": "stdout",
     "output_type": "stream",
     "text": [
      "11/11 [==============================] - 1s 94ms/step - loss: 0.8858 - accuracy: 0.4985 - val_loss: 0.6943 - val_accuracy: 0.4734\n",
      "Epoch 2/400\n",
      "11/11 [==============================] - 1s 89ms/step - loss: 0.7069 - accuracy: 0.5190 - val_loss: 0.6939 - val_accuracy: 0.4734\n",
      "Epoch 3/400\n",
      "11/11 [==============================] - 1s 87ms/step - loss: 0.6994 - accuracy: 0.5073 - val_loss: 0.6928 - val_accuracy: 0.4852\n",
      "Epoch 4/400\n",
      "11/11 [==============================] - 1s 88ms/step - loss: 0.6882 - accuracy: 0.5131 - val_loss: 0.6821 - val_accuracy: 0.5799\n",
      "Epoch 5/400\n",
      "11/11 [==============================] - 1s 91ms/step - loss: 0.7105 - accuracy: 0.5685 - val_loss: 0.6853 - val_accuracy: 0.5385\n",
      "Epoch 6/400\n",
      "11/11 [==============================] - 1s 88ms/step - loss: 0.6863 - accuracy: 0.5277 - val_loss: 0.6879 - val_accuracy: 0.5266\n",
      "Epoch 7/400\n",
      "11/11 [==============================] - 1s 88ms/step - loss: 0.6869 - accuracy: 0.5569 - val_loss: 0.6762 - val_accuracy: 0.5266\n",
      "Epoch 8/400\n",
      "11/11 [==============================] - 1s 88ms/step - loss: 0.6463 - accuracy: 0.6385 - val_loss: 0.6557 - val_accuracy: 0.6568\n",
      "Epoch 9/400\n",
      "11/11 [==============================] - 1s 90ms/step - loss: 0.6716 - accuracy: 0.5860 - val_loss: 0.6680 - val_accuracy: 0.5266\n",
      "Epoch 10/400\n",
      "11/11 [==============================] - 1s 93ms/step - loss: 0.6232 - accuracy: 0.6560 - val_loss: 0.6339 - val_accuracy: 0.6213\n",
      "Epoch 11/400\n",
      "11/11 [==============================] - 1s 95ms/step - loss: 0.6074 - accuracy: 0.6531 - val_loss: 0.6697 - val_accuracy: 0.5680\n",
      "Epoch 12/400\n",
      "11/11 [==============================] - 1s 92ms/step - loss: 0.5963 - accuracy: 0.6531 - val_loss: 0.6361 - val_accuracy: 0.5266\n",
      "Epoch 13/400\n",
      "11/11 [==============================] - 1s 92ms/step - loss: 0.5874 - accuracy: 0.6706 - val_loss: 0.6150 - val_accuracy: 0.7041\n",
      "Epoch 14/400\n",
      "11/11 [==============================] - 1s 91ms/step - loss: 0.5375 - accuracy: 0.7434 - val_loss: 0.6061 - val_accuracy: 0.6982\n",
      "Epoch 15/400\n",
      "11/11 [==============================] - 1s 93ms/step - loss: 0.5170 - accuracy: 0.7668 - val_loss: 0.5865 - val_accuracy: 0.7456\n",
      "Epoch 16/400\n",
      "11/11 [==============================] - 1s 92ms/step - loss: 0.4800 - accuracy: 0.7638 - val_loss: 0.5664 - val_accuracy: 0.7456\n",
      "Epoch 17/400\n",
      "11/11 [==============================] - 1s 90ms/step - loss: 0.4872 - accuracy: 0.7901 - val_loss: 0.5390 - val_accuracy: 0.7396\n",
      "Epoch 18/400\n",
      "11/11 [==============================] - 1s 89ms/step - loss: 0.4446 - accuracy: 0.8105 - val_loss: 0.5363 - val_accuracy: 0.7751\n",
      "Epoch 19/400\n",
      "11/11 [==============================] - 1s 91ms/step - loss: 0.4294 - accuracy: 0.8134 - val_loss: 0.5140 - val_accuracy: 0.7633\n",
      "Epoch 20/400\n",
      "11/11 [==============================] - 1s 101ms/step - loss: 0.4177 - accuracy: 0.8163 - val_loss: 0.5894 - val_accuracy: 0.7278\n",
      "Epoch 21/400\n",
      "11/11 [==============================] - 1s 108ms/step - loss: 0.3960 - accuracy: 0.8717 - val_loss: 0.4865 - val_accuracy: 0.7692\n",
      "Epoch 22/400\n",
      "11/11 [==============================] - 1s 90ms/step - loss: 0.3841 - accuracy: 0.8426 - val_loss: 0.4648 - val_accuracy: 0.8047\n",
      "Epoch 23/400\n",
      "11/11 [==============================] - 1s 100ms/step - loss: 0.3591 - accuracy: 0.8571 - val_loss: 0.5520 - val_accuracy: 0.7278\n",
      "Epoch 24/400\n",
      "11/11 [==============================] - 1s 98ms/step - loss: 0.3851 - accuracy: 0.8367 - val_loss: 0.4356 - val_accuracy: 0.7870\n",
      "Epoch 25/400\n",
      "11/11 [==============================] - 1s 103ms/step - loss: 0.4274 - accuracy: 0.7843 - val_loss: 0.4579 - val_accuracy: 0.7811\n",
      "Epoch 26/400\n",
      "11/11 [==============================] - 1s 91ms/step - loss: 0.3283 - accuracy: 0.8513 - val_loss: 0.4210 - val_accuracy: 0.8166\n",
      "Epoch 27/400\n",
      "11/11 [==============================] - 1s 89ms/step - loss: 0.3263 - accuracy: 0.8659 - val_loss: 0.4215 - val_accuracy: 0.8343\n",
      "Epoch 28/400\n",
      "11/11 [==============================] - 1s 88ms/step - loss: 0.3253 - accuracy: 0.8717 - val_loss: 0.4071 - val_accuracy: 0.8107\n",
      "Epoch 29/400\n",
      "11/11 [==============================] - 1s 91ms/step - loss: 0.3305 - accuracy: 0.8688 - val_loss: 0.4181 - val_accuracy: 0.8225\n",
      "Epoch 30/400\n",
      "11/11 [==============================] - 1s 88ms/step - loss: 0.3126 - accuracy: 0.8776 - val_loss: 0.4314 - val_accuracy: 0.7988\n",
      "Epoch 31/400\n",
      "11/11 [==============================] - 1s 88ms/step - loss: 0.3272 - accuracy: 0.8659 - val_loss: 0.4117 - val_accuracy: 0.7988\n",
      "Epoch 32/400\n",
      "11/11 [==============================] - 1s 86ms/step - loss: 0.3616 - accuracy: 0.8134 - val_loss: 0.3826 - val_accuracy: 0.8225\n",
      "Epoch 33/400\n",
      "11/11 [==============================] - 1s 86ms/step - loss: 0.2744 - accuracy: 0.8980 - val_loss: 0.3671 - val_accuracy: 0.8225\n",
      "Epoch 34/400\n",
      "11/11 [==============================] - 1s 91ms/step - loss: 0.2778 - accuracy: 0.8776 - val_loss: 0.3654 - val_accuracy: 0.8166\n",
      "Epoch 35/400\n",
      "11/11 [==============================] - 1s 88ms/step - loss: 0.2914 - accuracy: 0.9038 - val_loss: 0.3650 - val_accuracy: 0.8284\n",
      "Epoch 36/400\n",
      "11/11 [==============================] - 1s 90ms/step - loss: 0.2895 - accuracy: 0.8921 - val_loss: 0.3545 - val_accuracy: 0.8521\n",
      "Epoch 37/400\n",
      "11/11 [==============================] - 1s 90ms/step - loss: 0.2509 - accuracy: 0.8980 - val_loss: 0.4313 - val_accuracy: 0.7811\n",
      "Epoch 38/400\n",
      "11/11 [==============================] - 1s 89ms/step - loss: 0.2748 - accuracy: 0.8834 - val_loss: 0.3710 - val_accuracy: 0.8402\n",
      "Epoch 39/400\n",
      "11/11 [==============================] - 1s 87ms/step - loss: 0.2605 - accuracy: 0.9096 - val_loss: 0.3551 - val_accuracy: 0.8698\n",
      "Epoch 40/400\n",
      "11/11 [==============================] - 1s 88ms/step - loss: 0.2406 - accuracy: 0.9096 - val_loss: 0.3582 - val_accuracy: 0.8402\n",
      "Epoch 41/400\n",
      "11/11 [==============================] - 1s 87ms/step - loss: 0.2635 - accuracy: 0.8950 - val_loss: 0.3458 - val_accuracy: 0.8698\n",
      "Epoch 42/400\n",
      "11/11 [==============================] - 1s 89ms/step - loss: 0.2536 - accuracy: 0.9096 - val_loss: 0.3527 - val_accuracy: 0.8343\n",
      "Epoch 43/400\n",
      "11/11 [==============================] - 1s 88ms/step - loss: 0.2698 - accuracy: 0.8921 - val_loss: 0.3293 - val_accuracy: 0.8521\n",
      "Epoch 44/400\n",
      "11/11 [==============================] - 1s 87ms/step - loss: 0.2259 - accuracy: 0.9009 - val_loss: 0.3832 - val_accuracy: 0.8107\n",
      "Epoch 45/400\n",
      "11/11 [==============================] - 1s 87ms/step - loss: 0.2222 - accuracy: 0.9213 - val_loss: 0.3460 - val_accuracy: 0.8402\n",
      "Epoch 46/400\n",
      "11/11 [==============================] - 1s 89ms/step - loss: 0.2818 - accuracy: 0.8921 - val_loss: 0.3184 - val_accuracy: 0.8284\n",
      "Epoch 47/400\n",
      "11/11 [==============================] - 1s 88ms/step - loss: 0.2127 - accuracy: 0.9184 - val_loss: 0.3139 - val_accuracy: 0.8402\n",
      "Epoch 48/400\n",
      "11/11 [==============================] - 1s 90ms/step - loss: 0.2197 - accuracy: 0.9125 - val_loss: 0.3256 - val_accuracy: 0.8521\n",
      "Epoch 49/400\n",
      "11/11 [==============================] - 1s 90ms/step - loss: 0.2226 - accuracy: 0.9125 - val_loss: 0.3069 - val_accuracy: 0.8462\n",
      "Epoch 50/400\n",
      "11/11 [==============================] - 1s 87ms/step - loss: 0.2154 - accuracy: 0.9300 - val_loss: 0.3057 - val_accuracy: 0.8402\n",
      "Epoch 51/400\n",
      "11/11 [==============================] - 1s 87ms/step - loss: 0.2171 - accuracy: 0.9125 - val_loss: 0.3195 - val_accuracy: 0.8757\n",
      "Epoch 52/400\n",
      "11/11 [==============================] - 1s 88ms/step - loss: 0.2035 - accuracy: 0.9329 - val_loss: 0.3811 - val_accuracy: 0.8462\n",
      "Epoch 53/400\n",
      "11/11 [==============================] - 1s 86ms/step - loss: 0.2148 - accuracy: 0.9213 - val_loss: 0.2986 - val_accuracy: 0.8462\n",
      "Epoch 54/400\n",
      "11/11 [==============================] - 1s 90ms/step - loss: 0.2158 - accuracy: 0.9242 - val_loss: 0.3011 - val_accuracy: 0.8757\n",
      "Epoch 55/400\n",
      "11/11 [==============================] - 1s 90ms/step - loss: 0.2030 - accuracy: 0.9242 - val_loss: 0.2932 - val_accuracy: 0.8935\n",
      "Epoch 56/400\n",
      "11/11 [==============================] - 1s 87ms/step - loss: 0.1989 - accuracy: 0.9329 - val_loss: 0.3053 - val_accuracy: 0.8698\n",
      "Epoch 57/400\n",
      "11/11 [==============================] - 1s 88ms/step - loss: 0.1909 - accuracy: 0.9417 - val_loss: 0.2974 - val_accuracy: 0.8698\n",
      "Epoch 58/400\n",
      "11/11 [==============================] - 1s 86ms/step - loss: 0.2199 - accuracy: 0.9096 - val_loss: 0.2997 - val_accuracy: 0.8521\n",
      "Epoch 59/400\n",
      "11/11 [==============================] - 1s 86ms/step - loss: 0.1942 - accuracy: 0.9329 - val_loss: 0.3107 - val_accuracy: 0.8817\n",
      "Epoch 60/400\n",
      "11/11 [==============================] - 1s 87ms/step - loss: 0.1892 - accuracy: 0.9359 - val_loss: 0.3010 - val_accuracy: 0.8402\n",
      "Epoch 61/400\n",
      "11/11 [==============================] - 1s 87ms/step - loss: 0.2097 - accuracy: 0.9184 - val_loss: 0.2910 - val_accuracy: 0.8817\n",
      "Epoch 62/400\n",
      "11/11 [==============================] - 1s 88ms/step - loss: 0.2064 - accuracy: 0.9067 - val_loss: 0.2847 - val_accuracy: 0.8757\n",
      "Epoch 63/400\n",
      "11/11 [==============================] - 1s 86ms/step - loss: 0.1831 - accuracy: 0.9417 - val_loss: 0.3166 - val_accuracy: 0.8639\n",
      "Epoch 64/400\n",
      "11/11 [==============================] - 1s 87ms/step - loss: 0.1803 - accuracy: 0.9388 - val_loss: 0.2737 - val_accuracy: 0.8876\n",
      "Epoch 65/400\n",
      "11/11 [==============================] - 1s 87ms/step - loss: 0.1856 - accuracy: 0.9300 - val_loss: 0.2913 - val_accuracy: 0.8698\n",
      "Epoch 66/400\n",
      "11/11 [==============================] - 1s 89ms/step - loss: 0.1853 - accuracy: 0.9417 - val_loss: 0.2775 - val_accuracy: 0.8757\n",
      "Epoch 67/400\n",
      "11/11 [==============================] - 1s 86ms/step - loss: 0.1919 - accuracy: 0.9329 - val_loss: 0.2692 - val_accuracy: 0.8757\n",
      "Epoch 68/400\n",
      "11/11 [==============================] - 1s 88ms/step - loss: 0.1836 - accuracy: 0.9388 - val_loss: 0.3276 - val_accuracy: 0.8817\n",
      "Epoch 69/400\n",
      "11/11 [==============================] - 1s 88ms/step - loss: 0.2012 - accuracy: 0.9242 - val_loss: 0.2716 - val_accuracy: 0.8639\n",
      "Epoch 70/400\n",
      "11/11 [==============================] - 1s 88ms/step - loss: 0.1725 - accuracy: 0.9475 - val_loss: 0.2952 - val_accuracy: 0.8817\n",
      "Epoch 71/400\n",
      "11/11 [==============================] - 1s 88ms/step - loss: 0.1810 - accuracy: 0.9329 - val_loss: 0.2693 - val_accuracy: 0.8876\n",
      "Epoch 72/400\n",
      "11/11 [==============================] - 1s 88ms/step - loss: 0.1785 - accuracy: 0.9388 - val_loss: 0.2862 - val_accuracy: 0.8698\n",
      "Epoch 73/400\n",
      "11/11 [==============================] - 1s 87ms/step - loss: 0.1847 - accuracy: 0.9388 - val_loss: 0.2611 - val_accuracy: 0.8876\n",
      "Epoch 74/400\n",
      "11/11 [==============================] - 1s 89ms/step - loss: 0.1772 - accuracy: 0.9388 - val_loss: 0.2675 - val_accuracy: 0.8698\n",
      "Epoch 75/400\n",
      "11/11 [==============================] - 1s 88ms/step - loss: 0.1726 - accuracy: 0.9388 - val_loss: 0.2596 - val_accuracy: 0.8876\n",
      "Epoch 76/400\n",
      "11/11 [==============================] - 1s 87ms/step - loss: 0.1525 - accuracy: 0.9563 - val_loss: 0.2665 - val_accuracy: 0.8876\n",
      "Epoch 77/400\n",
      "11/11 [==============================] - 1s 86ms/step - loss: 0.2081 - accuracy: 0.9329 - val_loss: 0.2680 - val_accuracy: 0.8876\n",
      "Epoch 78/400\n",
      "11/11 [==============================] - 1s 87ms/step - loss: 0.1686 - accuracy: 0.9388 - val_loss: 0.2760 - val_accuracy: 0.8817\n",
      "Epoch 79/400\n",
      "11/11 [==============================] - 1s 88ms/step - loss: 0.1625 - accuracy: 0.9475 - val_loss: 0.2781 - val_accuracy: 0.8935\n",
      "Epoch 80/400\n",
      "11/11 [==============================] - 1s 89ms/step - loss: 0.1673 - accuracy: 0.9388 - val_loss: 0.2688 - val_accuracy: 0.8698\n",
      "Epoch 81/400\n",
      "11/11 [==============================] - 1s 89ms/step - loss: 0.1544 - accuracy: 0.9621 - val_loss: 0.2711 - val_accuracy: 0.8876\n",
      "Epoch 82/400\n",
      "11/11 [==============================] - 1s 89ms/step - loss: 0.1677 - accuracy: 0.9388 - val_loss: 0.2587 - val_accuracy: 0.8994\n",
      "Epoch 83/400\n",
      "11/11 [==============================] - 1s 87ms/step - loss: 0.1664 - accuracy: 0.9417 - val_loss: 0.2642 - val_accuracy: 0.8817\n",
      "Epoch 84/400\n",
      "11/11 [==============================] - 1s 87ms/step - loss: 0.1526 - accuracy: 0.9475 - val_loss: 0.2552 - val_accuracy: 0.8876\n",
      "Epoch 85/400\n",
      "11/11 [==============================] - 1s 89ms/step - loss: 0.1554 - accuracy: 0.9534 - val_loss: 0.2537 - val_accuracy: 0.8698\n",
      "Epoch 86/400\n",
      "11/11 [==============================] - 1s 87ms/step - loss: 0.1518 - accuracy: 0.9534 - val_loss: 0.2550 - val_accuracy: 0.8817\n",
      "Epoch 87/400\n",
      "11/11 [==============================] - 1s 87ms/step - loss: 0.1714 - accuracy: 0.9446 - val_loss: 0.2740 - val_accuracy: 0.8817\n",
      "Epoch 88/400\n",
      "11/11 [==============================] - 1s 88ms/step - loss: 0.1493 - accuracy: 0.9534 - val_loss: 0.3273 - val_accuracy: 0.8817\n",
      "Epoch 89/400\n",
      "11/11 [==============================] - 1s 94ms/step - loss: 0.1599 - accuracy: 0.9446 - val_loss: 0.2566 - val_accuracy: 0.8876\n",
      "Epoch 90/400\n",
      "11/11 [==============================] - 1s 89ms/step - loss: 0.1495 - accuracy: 0.9504 - val_loss: 0.2486 - val_accuracy: 0.8994\n",
      "Epoch 91/400\n",
      "11/11 [==============================] - 1s 87ms/step - loss: 0.1515 - accuracy: 0.9475 - val_loss: 0.3062 - val_accuracy: 0.8817\n",
      "Epoch 92/400\n",
      "11/11 [==============================] - 1s 87ms/step - loss: 0.1537 - accuracy: 0.9446 - val_loss: 0.2485 - val_accuracy: 0.8757\n",
      "Epoch 93/400\n",
      "11/11 [==============================] - 1s 86ms/step - loss: 0.1488 - accuracy: 0.9592 - val_loss: 0.2706 - val_accuracy: 0.8817\n",
      "Epoch 94/400\n",
      "11/11 [==============================] - 1s 87ms/step - loss: 0.1617 - accuracy: 0.9388 - val_loss: 0.2617 - val_accuracy: 0.8817\n",
      "Epoch 95/400\n",
      "11/11 [==============================] - 1s 86ms/step - loss: 0.1334 - accuracy: 0.9679 - val_loss: 0.2766 - val_accuracy: 0.8698\n",
      "Epoch 96/400\n",
      "11/11 [==============================] - 1s 87ms/step - loss: 0.2702 - accuracy: 0.8980 - val_loss: 0.2506 - val_accuracy: 0.8876\n",
      "Epoch 97/400\n",
      "11/11 [==============================] - 1s 88ms/step - loss: 0.1359 - accuracy: 0.9592 - val_loss: 0.2448 - val_accuracy: 0.8935\n",
      "Epoch 98/400\n",
      "11/11 [==============================] - 1s 88ms/step - loss: 0.1332 - accuracy: 0.9679 - val_loss: 0.2436 - val_accuracy: 0.8817\n",
      "Epoch 99/400\n",
      "11/11 [==============================] - 1s 90ms/step - loss: 0.1388 - accuracy: 0.9563 - val_loss: 0.3835 - val_accuracy: 0.8817\n",
      "Epoch 100/400\n",
      "11/11 [==============================] - 1s 90ms/step - loss: 0.1587 - accuracy: 0.9563 - val_loss: 0.2365 - val_accuracy: 0.8876\n",
      "Epoch 101/400\n",
      "11/11 [==============================] - 1s 90ms/step - loss: 0.1333 - accuracy: 0.9592 - val_loss: 0.2389 - val_accuracy: 0.8994\n",
      "Epoch 102/400\n",
      "11/11 [==============================] - 1s 88ms/step - loss: 0.1585 - accuracy: 0.9504 - val_loss: 0.3714 - val_accuracy: 0.8817\n",
      "Epoch 103/400\n",
      "11/11 [==============================] - 1s 87ms/step - loss: 0.1634 - accuracy: 0.9446 - val_loss: 0.2400 - val_accuracy: 0.8876\n",
      "Epoch 104/400\n",
      "11/11 [==============================] - 1s 87ms/step - loss: 0.1341 - accuracy: 0.9679 - val_loss: 0.2624 - val_accuracy: 0.8817\n",
      "Epoch 105/400\n",
      "11/11 [==============================] - 1s 92ms/step - loss: 0.1380 - accuracy: 0.9621 - val_loss: 0.2625 - val_accuracy: 0.8994\n",
      "Epoch 106/400\n",
      "11/11 [==============================] - 1s 96ms/step - loss: 0.1532 - accuracy: 0.9475 - val_loss: 0.2473 - val_accuracy: 0.8935\n",
      "Epoch 107/400\n",
      "11/11 [==============================] - 1s 88ms/step - loss: 0.1562 - accuracy: 0.9417 - val_loss: 0.2456 - val_accuracy: 0.8876\n",
      "Epoch 107: early stopping\n"
     ]
    }
   ],
   "source": [
    "history = model.fit(X_train,y_train,epochs = 400 , validation_data = (X_test, y_test),callbacks=[es])"
   ]
  },
  {
   "cell_type": "code",
   "execution_count": 7,
   "id": "dbab2c08-130e-440e-a60e-68778a50d76b",
   "metadata": {},
   "outputs": [
    {
     "name": "stdout",
     "output_type": "stream",
     "text": [
      "Train: 0.959, Test: 0.888\n"
     ]
    },
    {
     "data": {
      "image/png": "[encoded data removed]",
      "text/plain": [
       "<Figure size 432x288 with 1 Axes>"
      ]
     },
     "metadata": {
      "needs_background": "light"
     },
     "output_type": "display_data"
    }
   ],
   "source": [
    "from matplotlib import pyplot\n",
    "_, train_acc = model.evaluate(X_train, y_train, verbose=0)\n",
    "_, test_acc = model.evaluate(X_test, y_test, verbose=0)\n",
    "print('Train: %.3f, Test: %.3f' % (train_acc, test_acc))\n",
    "# plot training history\n",
    "pyplot.plot(history.history['loss'], label='train')\n",
    "pyplot.plot(history.history['val_loss'], label='test')\n",
    "pyplot.legend()\n",
    "pyplot.show()"
   ]
  },
  {
   "cell_type": "markdown",
   "id": "4c88895b-f614-4e58-ac15-aa2335631995",
   "metadata": {},
   "source": [
    "# Save the Model\n",
    "\n",
    "Building the model - can take a long time.\n",
    "We can have keras auto-save - but I have not done that here.\n",
    "\n",
    "Let us assume we think this model will work - so lets save it."
   ]
  },
  {
   "cell_type": "code",
   "execution_count": 8,
   "id": "a705613b-8f74-4055-b581-6b7f2b4f58cc",
   "metadata": {},
   "outputs": [
    {
     "name": "stderr",
     "output_type": "stream",
     "text": [
      "2023-05-06 08:37:39.385956: W tensorflow/python/util/util.cc:368] Sets are not currently considered sequences, but this may change in the future, so consider avoiding using them.\n"
     ]
    },
    {
     "name": "stdout",
     "output_type": "stream",
     "text": [
      "INFO:tensorflow:Assets written to: model/v0.0a/assets\n"
     ]
    }
   ],
   "source": [
    "model.save('model/v0.0a')"
   ]
  },
  {
   "cell_type": "code",
   "execution_count": null,
   "id": "f305f480-2da7-45a0-980d-60b8653c074f",
   "metadata": {},
   "outputs": [],
   "source": []
  }
 ],
 "metadata": {
  "kernelspec": {
   "display_name": "pyml",
   "language": "python",
   "name": "pyml"
  },
  "language_info": {
   "codemirror_mode": {
    "name": "ipython",
    "version": 3
   },
   "file_extension": ".py",
   "mimetype": "text/x-python",
   "name": "python",
   "nbconvert_exporter": "python",
   "pygments_lexer": "ipython3",
   "version": "3.9.16"
  }
 },
 "nbformat": 4,
 "nbformat_minor": 5
}
